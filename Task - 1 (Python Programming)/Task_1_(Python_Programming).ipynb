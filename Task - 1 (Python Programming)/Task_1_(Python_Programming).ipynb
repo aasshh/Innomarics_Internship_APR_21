{
 "cells": [
  {
   "cell_type": "markdown",
   "metadata": {
    "id": "BOM7f79USIwM"
   },
   "source": [
    "Answer to Question no 1:"
   ]
  },
  {
   "cell_type": "code",
   "execution_count": 1,
   "metadata": {
    "colab": {
     "base_uri": "https://localhost:8080/"
    },
    "id": "X741wV9GQP1Y",
    "outputId": "1ffa5f50-5538-4cc7-c5e6-f63df843d2f5"
   },
   "outputs": [
    {
     "name": "stdout",
     "output_type": "stream",
     "text": [
      "Hello, World!\n"
     ]
    }
   ],
   "source": [
    "print(\"Hello, World!\")"
   ]
  },
  {
   "cell_type": "markdown",
   "metadata": {
    "id": "NNfz8bbESQVr"
   },
   "source": [
    "Answer to Question no 2:"
   ]
  },
  {
   "cell_type": "code",
   "execution_count": 1,
   "metadata": {
    "colab": {
     "base_uri": "https://localhost:8080/"
    },
    "id": "ePeXYWxbQSoy",
    "outputId": "c0235d25-16f1-4c49-ab46-bedc855da910"
   },
   "outputs": [
    {
     "name": "stdout",
     "output_type": "stream",
     "text": [
      "22\n",
      "Not Weird\n"
     ]
    }
   ],
   "source": [
    "f=lambda x:\"Not Weird\" if (x%2==0 and (1<x<5 or x>20)) else \"Weird\"\n",
    "print(f(int(input())))"
   ]
  },
  {
   "cell_type": "markdown",
   "metadata": {
    "id": "GEZnBR5gSSXr"
   },
   "source": [
    "Answer to Question no 3:"
   ]
  },
  {
   "cell_type": "code",
   "execution_count": 3,
   "metadata": {
    "colab": {
     "base_uri": "https://localhost:8080/"
    },
    "id": "KjrTb24vQyQL",
    "outputId": "13b57eb7-ee28-4a02-a13b-33adb5901a82"
   },
   "outputs": [
    {
     "name": "stdout",
     "output_type": "stream",
     "text": [
      "5\n",
      "6\n",
      "11\n",
      "-1\n",
      "30\n"
     ]
    }
   ],
   "source": [
    "if __name__ == '__main__':\n",
    "    a = int(input())\n",
    "    b = int(input())\n",
    "    print(a+b)\n",
    "    print(a-b)\n",
    "    print(a*b)"
   ]
  },
  {
   "cell_type": "markdown",
   "metadata": {
    "id": "Ac506YZbSUbE"
   },
   "source": [
    "Answer to Question no 4:"
   ]
  },
  {
   "cell_type": "code",
   "execution_count": 4,
   "metadata": {
    "colab": {
     "base_uri": "https://localhost:8080/"
    },
    "id": "-uB4-C0MQ1N3",
    "outputId": "f57fb9e4-492a-4645-ffca-241e5c484f92"
   },
   "outputs": [
    {
     "name": "stdout",
     "output_type": "stream",
     "text": [
      "7\n",
      "8\n",
      "0\n",
      "0.875\n"
     ]
    }
   ],
   "source": [
    "if __name__ == '__main__':\n",
    "    a,b = int(input()),int(input())\n",
    "    print(a//b)\n",
    "    print(a/b)"
   ]
  },
  {
   "cell_type": "markdown",
   "metadata": {
    "id": "LH-qZXCISWZm"
   },
   "source": [
    "Answer to Question no 5:"
   ]
  },
  {
   "cell_type": "code",
   "execution_count": 5,
   "metadata": {
    "colab": {
     "base_uri": "https://localhost:8080/"
    },
    "id": "jRlakEivRAZS",
    "outputId": "74745b08-be76-4bef-c0a3-1c77327f8974"
   },
   "outputs": [
    {
     "name": "stdout",
     "output_type": "stream",
     "text": [
      "9\n",
      "0\n",
      "1\n",
      "4\n",
      "9\n",
      "16\n",
      "25\n",
      "36\n",
      "49\n",
      "64\n"
     ]
    }
   ],
   "source": [
    "if __name__ == '__main__':\n",
    "    n = int(input())\n",
    "    i=0\n",
    "    while i<n:\n",
    "        print(i**2)\n",
    "        i=i+1"
   ]
  },
  {
   "cell_type": "markdown",
   "metadata": {
    "id": "Xfa7gqzQSYZQ"
   },
   "source": [
    "Answer to Question no 6:"
   ]
  },
  {
   "cell_type": "code",
   "execution_count": 6,
   "metadata": {
    "id": "X2ayda3YRWVy"
   },
   "outputs": [],
   "source": [
    "def is_leap(year):\n",
    "    return year%4==0 and (year%400==0 or year%100!=0)"
   ]
  },
  {
   "cell_type": "markdown",
   "metadata": {
    "id": "-iQ6fZ0wSaNe"
   },
   "source": [
    "Answer to Question no 7:"
   ]
  },
  {
   "cell_type": "code",
   "execution_count": 7,
   "metadata": {
    "colab": {
     "base_uri": "https://localhost:8080/"
    },
    "id": "BNaHcUi3RjIr",
    "outputId": "765555e0-4b24-4744-8c8b-bb9ec053c8c4"
   },
   "outputs": [
    {
     "name": "stdout",
     "output_type": "stream",
     "text": [
      "10\n",
      "12345678910"
     ]
    }
   ],
   "source": [
    "if __name__ == '__main__':\n",
    "    n = int(input())\n",
    "i=1\n",
    "while i<=n:\n",
    "    print(i,end=\"\")\n",
    "    i=i+1"
   ]
  }
 ],
 "metadata": {
  "colab": {
   "name": "Task - 1 (Python Programming).ipynb",
   "provenance": []
  },
  "kernelspec": {
   "display_name": "Python 3",
   "language": "python",
   "name": "python3"
  },
  "language_info": {
   "codemirror_mode": {
    "name": "ipython",
    "version": 3
   },
   "file_extension": ".py",
   "mimetype": "text/x-python",
   "name": "python",
   "nbconvert_exporter": "python",
   "pygments_lexer": "ipython3",
   "version": "3.7.6"
  }
 },
 "nbformat": 4,
 "nbformat_minor": 1
}
