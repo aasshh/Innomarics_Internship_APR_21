{
 "cells": [
  {
   "cell_type": "markdown",
   "id": "finite-gnome",
   "metadata": {},
   "source": [
    "#### List Comprehensions"
   ]
  },
  {
   "cell_type": "code",
   "execution_count": null,
   "id": "thick-platinum",
   "metadata": {},
   "outputs": [],
   "source": [
    "if __name__ == '__main__':\n",
    "    x = int(input())\n",
    "    y = int(input())\n",
    "    z = int(input())\n",
    "    n = int(input())\n",
    "    \n",
    "print([[a,b,c] for a in range(0,x+1) for b in range (0,y+1) for c in range(0,z+1) if a+b+c != n])"
   ]
  },
  {
   "cell_type": "markdown",
   "id": "brutal-joint",
   "metadata": {},
   "source": [
    "#### Find the Runner-Up Score!"
   ]
  },
  {
   "cell_type": "code",
   "execution_count": 4,
   "id": "joined-brooklyn",
   "metadata": {},
   "outputs": [
    {
     "name": "stdout",
     "output_type": "stream",
     "text": [
      "2\n",
      "2 5 4 8 9 3 5 1 4 5 3 2 1 1 10 21\n",
      "10\n"
     ]
    }
   ],
   "source": [
    "if __name__ == '__main__':\n",
    "    n = int(input())\n",
    "    arr = list(set(map(int, input().split())))\n",
    "    arr.sort()\n",
    "    print(arr[-2])"
   ]
  },
  {
   "cell_type": "markdown",
   "id": "sixth-essex",
   "metadata": {},
   "source": [
    "#### Nested Lists"
   ]
  },
  {
   "cell_type": "code",
   "execution_count": 5,
   "id": "composed-insert",
   "metadata": {},
   "outputs": [
    {
     "name": "stdout",
     "output_type": "stream",
     "text": [
      "5\n",
      "ashu\n",
      "50\n",
      "naina\n",
      "56\n",
      "vaibhav\n",
      "66\n",
      "aman\n",
      "70\n",
      "harish\n",
      "45\n",
      "ashu\n"
     ]
    }
   ],
   "source": [
    "if __name__ == '__main__':\n",
    "    n=int(input())\n",
    "    if n>5:\n",
    "        print('error')\n",
    "    result = []\n",
    "    scores = []\n",
    "    for i in range(n):\n",
    "        name = input()\n",
    "        score = float(input())\n",
    "        result.append([name,score])\n",
    "        scores.append(score)\n",
    "    m=0\n",
    "    for i in scores:\n",
    "            if sorted(scores)[0]==sorted(scores)[m]:\n",
    "                m=m+1\n",
    "            else:\n",
    "                break\n",
    "    second_lowest_score=sorted(scores)[m]\n",
    "    second_lowest_names=[]\n",
    "    for i,j in result:\n",
    "        if j == second_lowest_score:\n",
    "            second_lowest_names.append(i)\n",
    "    for i in sorted(second_lowest_names):\n",
    "        print(i)"
   ]
  },
  {
   "cell_type": "markdown",
   "id": "amino-devon",
   "metadata": {},
   "source": [
    "#### Finding the percentage"
   ]
  },
  {
   "cell_type": "code",
   "execution_count": 6,
   "id": "serious-poverty",
   "metadata": {},
   "outputs": [
    {
     "name": "stdout",
     "output_type": "stream",
     "text": [
      "5\n",
      "ashu 50\n",
      "15\n",
      "ssd 54\n",
      "55\n",
      "sds 64\n",
      "545\n"
     ]
    }
   ],
   "source": [
    "if __name__ == '__main__':\n",
    "    n = int(input())\n",
    "    student_marks = {}\n",
    "    for _ in range(n):\n",
    "        name, *line = input().split()\n",
    "        scores = list(map(float, line))\n",
    "        student_marks[name] = scores\n",
    "    query_name = input()\n",
    "    for i in student_marks.keys():\n",
    "        if i==query_name:\n",
    "            print(\"{:.2f}\".format(float(sum(student_marks.get(i))/len(student_marks.get(i)))))"
   ]
  },
  {
   "cell_type": "markdown",
   "id": "organic-onion",
   "metadata": {},
   "source": [
    "#### Lists"
   ]
  },
  {
   "cell_type": "code",
   "execution_count": null,
   "id": "compatible-buddy",
   "metadata": {},
   "outputs": [],
   "source": [
    "if __name__ == '__main__':\n",
    "    N = int(input())\n",
    "l=[]\n",
    "for _ in range(N):\n",
    "    cmd=input().split()\n",
    "    if(cmd[0].lower()=='insert'):\n",
    "        l.insert(int(cmd[1]),int(cmd[2]))\n",
    "    if(cmd[0].lower()=='print'):\n",
    "        print(l)           \n",
    "    if(cmd[0].lower()=='remove'):\n",
    "        l.remove(int(cmd[1]))\n",
    "    if(cmd[0].lower()=='append'):\n",
    "        l.append(int(cmd[1]))\n",
    "    if(cmd[0].lower()=='sort'):\n",
    "        l=sorted(l)\n",
    "    if(cmd[0].lower()=='pop'):\n",
    "        l.pop(-1)\n",
    "    if(cmd[0].lower()=='reverse'):\n",
    "        l.reverse()"
   ]
  },
  {
   "cell_type": "markdown",
   "id": "systematic-charlotte",
   "metadata": {},
   "source": [
    "#### Tuples"
   ]
  },
  {
   "cell_type": "code",
   "execution_count": null,
   "id": "colonial-pleasure",
   "metadata": {},
   "outputs": [],
   "source": [
    "if __name__ == '__main__':\n",
    "    n = int(input())\n",
    "    integer_list = map(int, input().split())\n",
    "    t=(*integer_list,)\n",
    "    print(hash(t))"
   ]
  },
  {
   "cell_type": "markdown",
   "id": "comfortable-finland",
   "metadata": {},
   "source": [
    "#### Introduction to Sets"
   ]
  },
  {
   "cell_type": "code",
   "execution_count": null,
   "id": "protective-invasion",
   "metadata": {},
   "outputs": [],
   "source": [
    "def average(array):\n",
    "    return float(sum(set(arr)))/float(len(set(arr)))\n",
    "if __name__ == '__main__':\n",
    "    n = int(input())\n",
    "    arr = list(map(int, input().split()))\n",
    "    result = average(arr)\n",
    "    print(result)"
   ]
  },
  {
   "cell_type": "markdown",
   "id": "terminal-reform",
   "metadata": {},
   "source": [
    "#### No Idea!"
   ]
  },
  {
   "cell_type": "code",
   "execution_count": null,
   "id": "derived-motor",
   "metadata": {},
   "outputs": [],
   "source": [
    "N = list(map(int,input().split()))\n",
    "n = list(map(int,input().split()))\n",
    "A = set(map(int,input().split()))\n",
    "B = set(map(int,input().split()))\n",
    "c=0\n",
    "for i in n:\n",
    "    if i in A:\n",
    "        c=c+1\n",
    "    if i in B:\n",
    "        c=c-1\n",
    "print(c)"
   ]
  },
  {
   "cell_type": "markdown",
   "id": "manual-ceremony",
   "metadata": {},
   "source": [
    "#### Symmetric Difference"
   ]
  },
  {
   "cell_type": "code",
   "execution_count": null,
   "id": "suited-paris",
   "metadata": {},
   "outputs": [],
   "source": [
    "m=int(input())\n",
    "s=set()\n",
    "for i in range(m):\n",
    "    n=input()\n",
    "    if n in s:\n",
    "        s=s-set(n)\n",
    "    else:\n",
    "        s.add(n)\n",
    "print(len(s))"
   ]
  },
  {
   "cell_type": "markdown",
   "id": "superior-joseph",
   "metadata": {},
   "source": [
    "#### Set .add()"
   ]
  },
  {
   "cell_type": "code",
   "execution_count": null,
   "id": "instructional-heading",
   "metadata": {},
   "outputs": [],
   "source": [
    "m=int(input())\n",
    "s=set()\n",
    "for i in range(m):\n",
    "    n=input()\n",
    "    if n in s:\n",
    "        s=s-set(n)\n",
    "    else:\n",
    "        s.add(n)\n",
    "print(len(s))"
   ]
  },
  {
   "cell_type": "markdown",
   "id": "vanilla-yesterday",
   "metadata": {},
   "source": [
    "#### Set .discard(), .remove() & .pop()"
   ]
  },
  {
   "cell_type": "code",
   "execution_count": null,
   "id": "legitimate-mouth",
   "metadata": {},
   "outputs": [],
   "source": [
    "n = int(input())\n",
    "s = set(map(int, input().split()))\n",
    "N = int(input())\n",
    "for i in range(N):\n",
    "    opt=input().split()\n",
    "    if opt[0]=='pop':\n",
    "        s.pop()\n",
    "    if opt[0]=='remove':\n",
    "        s.remove(int(opt[1]))\n",
    "    if opt[0]=='discard':\n",
    "        s.discard(int(opt[1]))\n",
    "print(sum(s))"
   ]
  },
  {
   "cell_type": "markdown",
   "id": "parliamentary-commitment",
   "metadata": {},
   "source": [
    "#### Set .union() Operation"
   ]
  },
  {
   "cell_type": "code",
   "execution_count": null,
   "id": "cheap-assembly",
   "metadata": {},
   "outputs": [],
   "source": [
    "_, a = input(), set(input().split())\n",
    "_, b = input(), set(input().split())\n",
    "print(len(a.union(b)))"
   ]
  },
  {
   "cell_type": "markdown",
   "id": "looking-retro",
   "metadata": {},
   "source": [
    "#### Set .intersection() Operation"
   ]
  },
  {
   "cell_type": "code",
   "execution_count": null,
   "id": "occasional-roulette",
   "metadata": {},
   "outputs": [],
   "source": [
    "_,a=input(),set(input().split())\n",
    "_,b=input(),set(input().split())\n",
    "print(len(a.intersection(b)))"
   ]
  },
  {
   "cell_type": "markdown",
   "id": "indian-platform",
   "metadata": {},
   "source": [
    "#### Set .difference() Operation\n",
    "\n"
   ]
  },
  {
   "cell_type": "code",
   "execution_count": null,
   "id": "discrete-sleeve",
   "metadata": {},
   "outputs": [],
   "source": [
    "x,a=input(),set(input().split())\n",
    "y,b=input(),set(input().split())\n",
    "print(len(a.difference(b)))\n"
   ]
  },
  {
   "cell_type": "markdown",
   "id": "silver-sustainability",
   "metadata": {},
   "source": [
    "#### Set .symmetric_difference() Operation\n",
    "\n"
   ]
  },
  {
   "cell_type": "code",
   "execution_count": null,
   "id": "rural-oklahoma",
   "metadata": {},
   "outputs": [],
   "source": [
    "x,a=input(),set(input().split())\n",
    "y,b=input(),set(input().split())\n",
    "print(len(a.symmetric_difference(b)))\n"
   ]
  },
  {
   "cell_type": "markdown",
   "id": "subject-consolidation",
   "metadata": {},
   "source": [
    "#### Set Mutations\n",
    "\n"
   ]
  },
  {
   "cell_type": "code",
   "execution_count": null,
   "id": "streaming-tokyo",
   "metadata": {},
   "outputs": [],
   "source": [
    "_,A = input(),set(map(int,input().split(\" \")))\n",
    "for i in range(int(input())):\n",
    "    cmd, args = input().split(\" \")\n",
    "    B = set(map(int, input().split(\" \")))\n",
    "    eval('A.'+cmd+'(B)')\n",
    "\n",
    "print(sum(A))\n"
   ]
  },
  {
   "cell_type": "markdown",
   "id": "mounted-asthma",
   "metadata": {},
   "source": [
    "#### The Captain's Room\n",
    "\n"
   ]
  },
  {
   "cell_type": "code",
   "execution_count": null,
   "id": "catholic-evanescence",
   "metadata": {},
   "outputs": [],
   "source": [
    "k, rooms, single, multiple = input(), input().split(), set(), set()\n",
    "for room in rooms: single.add(room) if room not in single else multiple.add(room)\n",
    "print(single.difference(multiple).pop())\n"
   ]
  },
  {
   "cell_type": "markdown",
   "id": "paperback-destination",
   "metadata": {},
   "source": [
    "#### Check Subset\n",
    "\n"
   ]
  },
  {
   "cell_type": "code",
   "execution_count": null,
   "id": "first-symposium",
   "metadata": {},
   "outputs": [],
   "source": [
    "for _ in range(int(input())):\n",
    "    _,A=input(),set(map(int,input().split()))\n",
    "    _,B=input(),set(map(int,input().split()))\n",
    "    if(len(A-B)==0):\n",
    "        print('True')\n",
    "    else:\n",
    "        print('False')\n"
   ]
  },
  {
   "cell_type": "markdown",
   "id": "veterinary-trial",
   "metadata": {},
   "source": [
    "#### Check Strict Superset\n",
    "\n"
   ]
  },
  {
   "cell_type": "code",
   "execution_count": null,
   "id": "roman-chicken",
   "metadata": {},
   "outputs": [],
   "source": [
    "A=set(map(int,input().split()))\n",
    "C,N=0,0\n",
    "for _ in range(int(input())):\n",
    "    S=set(map(int,input().split()))\n",
    "    if(len(S-A)==0 and len(A-S)!=0):\n",
    "        C=1\n",
    "    else:\n",
    "        N=1\n",
    "if(N==0):\n",
    "    print('True')\n",
    "else:\n",
    "    print('False')"
   ]
  }
 ],
 "metadata": {
  "kernelspec": {
   "display_name": "Python 3",
   "language": "python",
   "name": "python3"
  },
  "language_info": {
   "codemirror_mode": {
    "name": "ipython",
    "version": 3
   },
   "file_extension": ".py",
   "mimetype": "text/x-python",
   "name": "python",
   "nbconvert_exporter": "python",
   "pygments_lexer": "ipython3",
   "version": "3.7.6"
  }
 },
 "nbformat": 4,
 "nbformat_minor": 5
}
