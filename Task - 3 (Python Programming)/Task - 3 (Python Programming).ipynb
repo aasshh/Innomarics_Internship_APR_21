{
 "cells": [
  {
   "cell_type": "markdown",
   "id": "figured-serve",
   "metadata": {},
   "source": [
    "Answer to question Polar coordinates"
   ]
  },
  {
   "cell_type": "code",
   "execution_count": 2,
   "id": "extensive-guinea",
   "metadata": {},
   "outputs": [
    {
     "name": "stdout",
     "output_type": "stream",
     "text": [
      "1+3j\n",
      "3.1622776601683795\n",
      "1.2490457723982544\n"
     ]
    }
   ],
   "source": [
    "import cmath\n",
    "print(*cmath.polar(complex(input())), sep='\\n')"
   ]
  },
  {
   "cell_type": "markdown",
   "id": "sharp-community",
   "metadata": {},
   "source": [
    "Answer to question no Find Angle MBC **:**"
   ]
  },
  {
   "cell_type": "code",
   "execution_count": 3,
   "id": "freelance-eligibility",
   "metadata": {},
   "outputs": [
    {
     "name": "stdout",
     "output_type": "stream",
     "text": [
      "10\n",
      "10\n",
      "45°\n"
     ]
    }
   ],
   "source": [
    "import math\n",
    "AB,BC = int(input()),int(input())\n",
    "AC = math.hypot(AB,BC)\n",
    "ACB=round(math.degrees(math.atan(AB/BC)))\n",
    "print(ACB,chr(176),sep='')"
   ]
  },
  {
   "cell_type": "markdown",
   "id": "adjustable-syndicate",
   "metadata": {},
   "source": [
    "Triangle Quest 2:"
   ]
  },
  {
   "cell_type": "code",
   "execution_count": 10,
   "id": "moderate-discharge",
   "metadata": {},
   "outputs": [
    {
     "name": "stdout",
     "output_type": "stream",
     "text": [
      "5\n",
      "1\n",
      "121\n",
      "12321\n",
      "1234321\n",
      "123454321\n"
     ]
    }
   ],
   "source": [
    "for i in range(1,int(input())+1):\n",
    "    print(int(((10**i)//9)**2))"
   ]
  },
  {
   "cell_type": "markdown",
   "id": "available-puppy",
   "metadata": {},
   "source": [
    "Mod Divmod"
   ]
  },
  {
   "cell_type": "code",
   "execution_count": 7,
   "id": "narrow-ancient",
   "metadata": {},
   "outputs": [
    {
     "data": {
      "text/plain": [
       "11"
      ]
     },
     "execution_count": 7,
     "metadata": {},
     "output_type": "execute_result"
    }
   ],
   "source": [
    "a=divmod(int(input()),int(input()))\n",
    "print(a[0],a[1],a,sep='\\n')"
   ]
  },
  {
   "cell_type": "markdown",
   "id": "operating-pierce",
   "metadata": {},
   "source": [
    "Power-Mod power"
   ]
  },
  {
   "cell_type": "code",
   "execution_count": null,
   "id": "needed-defendant",
   "metadata": {},
   "outputs": [],
   "source": [
    "a,b,m=int(input()),int(input()),int(input())\n",
    "print(pow(a,b),pow(a,b,m),sep='\\n')"
   ]
  },
  {
   "cell_type": "markdown",
   "id": "median-chick",
   "metadata": {},
   "source": [
    "Triangle Quest"
   ]
  },
  {
   "cell_type": "code",
   "execution_count": 9,
   "id": "dying-jacket",
   "metadata": {},
   "outputs": [
    {
     "name": "stdout",
     "output_type": "stream",
     "text": [
      "5\n",
      "1\n",
      "22\n",
      "333\n",
      "4444\n"
     ]
    }
   ],
   "source": [
    "for i in range(1,int(input())):\n",
    "    print((10**(i)//9)*i)"
   ]
  },
  {
   "cell_type": "code",
   "execution_count": null,
   "id": "intense-asset",
   "metadata": {},
   "outputs": [],
   "source": [
    "Interger Com"
   ]
  },
  {
   "cell_type": "code",
   "execution_count": 8,
   "id": "local-signature",
   "metadata": {},
   "outputs": [
    {
     "name": "stdout",
     "output_type": "stream",
     "text": [
      "1\n",
      "2\n",
      "3\n",
      "4\n",
      "82\n"
     ]
    }
   ],
   "source": [
    "print(int(input())**int(input())+int(input())**int(input()))"
   ]
  },
  {
   "cell_type": "code",
   "execution_count": null,
   "id": "ordered-wrestling",
   "metadata": {},
   "outputs": [],
   "source": []
  }
 ],
 "metadata": {
  "kernelspec": {
   "display_name": "Python 3",
   "language": "python",
   "name": "python3"
  },
  "language_info": {
   "codemirror_mode": {
    "name": "ipython",
    "version": 3
   },
   "file_extension": ".py",
   "mimetype": "text/x-python",
   "name": "python",
   "nbconvert_exporter": "python",
   "pygments_lexer": "ipython3",
   "version": "3.7.6"
  }
 },
 "nbformat": 4,
 "nbformat_minor": 5
}
