{
 "cells": [
  {
   "cell_type": "markdown",
   "id": "every-trial",
   "metadata": {},
   "source": [
    "#### Detect Floating Point Number"
   ]
  },
  {
   "cell_type": "code",
   "execution_count": null,
   "id": "promising-clinic",
   "metadata": {},
   "outputs": [],
   "source": [
    "import re\n",
    "for _ in range(int(input())):\n",
    "    print(bool(re.match(\"^[\\+-]?\\d*\\.\\d+$\", input())))"
   ]
  },
  {
   "cell_type": "markdown",
   "id": "future-castle",
   "metadata": {},
   "source": [
    "#### Re.split()"
   ]
  },
  {
   "cell_type": "code",
   "execution_count": null,
   "id": "religious-failure",
   "metadata": {},
   "outputs": [],
   "source": [
    "regex_pattern = r'[.,]+'# Do not delete 'r'.\n",
    "import re\n",
    "print(\"\\n\".join(re.split(regex_pattern, input())))"
   ]
  },
  {
   "cell_type": "markdown",
   "id": "massive-exchange",
   "metadata": {},
   "source": [
    "#### Group(), Groups() & Groupdict()"
   ]
  },
  {
   "cell_type": "code",
   "execution_count": null,
   "id": "affected-warehouse",
   "metadata": {},
   "outputs": [],
   "source": [
    "import re\n",
    "x=input()\n",
    "m = re.search(r\"([a-z0-9])\\1+\",x)\n",
    "print(m.group(1) if m else -1)"
   ]
  },
  {
   "cell_type": "markdown",
   "id": "adapted-assist",
   "metadata": {},
   "source": [
    "#### Re.findall() & Re.finditer()"
   ]
  },
  {
   "cell_type": "code",
   "execution_count": null,
   "id": "drawn-lincoln",
   "metadata": {},
   "outputs": [],
   "source": [
    "import re\n",
    "vow = 'aeiou'\n",
    "cons = 'bcdfghjklmnpqrstvwxyz'\n",
    "m = re.findall(r\"(?<=[%s])([%s]{2,})[%s]\" % (cons, vow, cons), input(), flags = re.I)\n",
    "print('\\n'.join(m or ['-1']))"
   ]
  },
  {
   "cell_type": "markdown",
   "id": "golden-caribbean",
   "metadata": {},
   "source": [
    "#### Re.start() & Re.end()"
   ]
  },
  {
   "cell_type": "code",
   "execution_count": null,
   "id": "threaded-relation",
   "metadata": {},
   "outputs": [],
   "source": [
    "s = input()\n",
    "k = input()\n",
    "count = 0\n",
    "for i in range(0,len(s)):\n",
    "    if s[i:i+len(k)] == k:\n",
    "        count = 1\n",
    "        print((i,(i+len(k))-1))"
   ]
  },
  {
   "cell_type": "markdown",
   "id": "tribal-reconstruction",
   "metadata": {},
   "source": [
    "#### Regex Substitution"
   ]
  },
  {
   "cell_type": "code",
   "execution_count": null,
   "id": "breathing-pulse",
   "metadata": {},
   "outputs": [],
   "source": [
    "import re\n",
    "for _ in range(int(input())):\n",
    "    print(re.sub(r'(?<= )(\\&\\&|\\|\\|)(?= )', (lambda m: 'and' if m.group(1) == '&&' else 'or'), input()))"
   ]
  },
  {
   "cell_type": "markdown",
   "id": "educated-quantity",
   "metadata": {},
   "source": []
  },
  {
   "cell_type": "code",
   "execution_count": null,
   "id": "cellular-consumer",
   "metadata": {},
   "outputs": [],
   "source": [
    "regex_pattern = r\"M{0,3}(C[MD]|D?C{0,3})(X[CL]|L?X{0,3})(I[VX]|V?I{0,3})$\"\n",
    "import re\n",
    "print(str(bool(re.match(regex_pattern, input()))))"
   ]
  },
  {
   "cell_type": "markdown",
   "id": "outside-identity",
   "metadata": {},
   "source": [
    "#### Validating Roman Numerals"
   ]
  },
  {
   "cell_type": "code",
   "execution_count": null,
   "id": "nutritional-study",
   "metadata": {},
   "outputs": [],
   "source": [
    "import re\n",
    "regex=r\"<[a-z]+[\\w\\-.]*@[a-z]+\\.[a-z]{1,3}>\"\n",
    "n=int(input())\n",
    "for i in range(n):\n",
    "    name,email=input().split()\n",
    "    if re.match(regex,email,re.I):\n",
    "        print(\" \".join([name,email]))"
   ]
  },
  {
   "cell_type": "markdown",
   "id": "lonely-reason",
   "metadata": {},
   "source": [
    "#### Hex Color Code"
   ]
  },
  {
   "cell_type": "code",
   "execution_count": null,
   "id": "bigger-tattoo",
   "metadata": {},
   "outputs": [],
   "source": [
    "import re\n",
    "for i in range(int(input())):\n",
    "    match = re.findall(r':?.(#[0-9a-fA-F]{6}|#[0-9a-fA-F]{3})', input())\n",
    "    if match==True:\n",
    "        print(*matches, sep='\\n')"
   ]
  },
  {
   "cell_type": "markdown",
   "id": "enabling-harvey",
   "metadata": {},
   "source": []
  },
  {
   "cell_type": "code",
   "execution_count": null,
   "id": "better-marriage",
   "metadata": {},
   "outputs": [],
   "source": []
  },
  {
   "cell_type": "markdown",
   "id": "considered-omega",
   "metadata": {},
   "source": []
  },
  {
   "cell_type": "code",
   "execution_count": null,
   "id": "corresponding-hometown",
   "metadata": {},
   "outputs": [],
   "source": []
  },
  {
   "cell_type": "markdown",
   "id": "formal-ghana",
   "metadata": {},
   "source": []
  },
  {
   "cell_type": "code",
   "execution_count": null,
   "id": "graphic-jaguar",
   "metadata": {},
   "outputs": [],
   "source": []
  }
 ],
 "metadata": {
  "kernelspec": {
   "display_name": "Python 3",
   "language": "python",
   "name": "python3"
  },
  "language_info": {
   "codemirror_mode": {
    "name": "ipython",
    "version": 3
   },
   "file_extension": ".py",
   "mimetype": "text/x-python",
   "name": "python",
   "nbconvert_exporter": "python",
   "pygments_lexer": "ipython3",
   "version": "3.7.6"
  }
 },
 "nbformat": 4,
 "nbformat_minor": 5
}
