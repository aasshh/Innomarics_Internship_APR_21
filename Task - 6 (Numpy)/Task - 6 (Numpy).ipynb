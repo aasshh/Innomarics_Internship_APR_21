{
 "cells": [
  {
   "cell_type": "markdown",
   "id": "textile-liverpool",
   "metadata": {},
   "source": [
    "Arrays"
   ]
  },
  {
   "cell_type": "code",
   "execution_count": null,
   "id": "whole-czech",
   "metadata": {},
   "outputs": [],
   "source": [
    "import numpy\n",
    "\n",
    "def arrays(arr):\n",
    "    return numpy.array(arr[::-1],float)\n",
    "\n",
    "arr = input().strip().split()\n",
    "result = arrays(arr)\n",
    "print(result)"
   ]
  },
  {
   "cell_type": "markdown",
   "id": "frank-treasury",
   "metadata": {},
   "source": [
    "Shape and Reshape"
   ]
  },
  {
   "cell_type": "code",
   "execution_count": 3,
   "id": "fresh-saturn",
   "metadata": {},
   "outputs": [
    {
     "name": "stdout",
     "output_type": "stream",
     "text": [
      "5 2 4 6 5 8 6 4\n"
     ]
    }
   ],
   "source": [
    "import numpy as np\n",
    "arr = np.array(input().split(),int)\n",
    "print(arr.reshape(3,3))"
   ]
  },
  {
   "cell_type": "markdown",
   "id": "radical-bench",
   "metadata": {},
   "source": [
    "np-transpose-and-flatten"
   ]
  },
  {
   "cell_type": "code",
   "execution_count": 1,
   "id": "monetary-arrow",
   "metadata": {},
   "outputs": [
    {
     "name": "stdout",
     "output_type": "stream",
     "text": [
      "0 1\n"
     ]
    }
   ],
   "source": [
    "import numpy as np\n",
    "a=int(input().split()[0])\n",
    "arr = np.array([input().strip().split() for _ in range(a)], int)\n",
    "print(arr.transpose())\n",
    "print(arr.flatten())"
   ]
  },
  {
   "cell_type": "markdown",
   "id": "exterior-stupid",
   "metadata": {},
   "source": [
    "np-concatenate"
   ]
  },
  {
   "cell_type": "code",
   "execution_count": 5,
   "id": "favorite-joint",
   "metadata": {},
   "outputs": [
    {
     "name": "stdout",
     "output_type": "stream",
     "text": [
      "1 2\n",
      "1 2\n",
      "2 3\n",
      "2 5\n",
      "[[1 2]\n",
      " [2 3]\n",
      " [2 5]]\n"
     ]
    }
   ],
   "source": [
    "import numpy as np\n",
    "n=list(map(int,input().split()))\n",
    "arr= np.array([input().strip().split() for _ in range(n[0]+n[1])],int)\n",
    "print(arr)"
   ]
  },
  {
   "cell_type": "markdown",
   "id": "senior-movie",
   "metadata": {},
   "source": [
    "Zeros and Ones"
   ]
  },
  {
   "cell_type": "code",
   "execution_count": 9,
   "id": "sought-current",
   "metadata": {},
   "outputs": [
    {
     "data": {
      "text/plain": [
       "array([[0., 0., 0.],\n",
       "       [0., 0., 0.],\n",
       "       [0., 0., 0.]])"
      ]
     },
     "execution_count": 9,
     "metadata": {},
     "output_type": "execute_result"
    }
   ],
   "source": [
    "import numpy as np\n",
    "n= list(map(int,input().split()))\n",
    "print(np.zeros(n, dtype=np.int))\n",
    "print(np.ones(n, dtype=np.int))"
   ]
  },
  {
   "cell_type": "markdown",
   "id": "breathing-dining",
   "metadata": {},
   "source": [
    "Eye and Identity"
   ]
  },
  {
   "cell_type": "code",
   "execution_count": null,
   "id": "ranking-suicide",
   "metadata": {},
   "outputs": [],
   "source": [
    "import numpy\n",
    "numpy.set_printoptions(legacy='1.13')\n",
    "n=list(map(int,input().split()))\n",
    "print(numpy.eye(n[0],n[1]))"
   ]
  },
  {
   "cell_type": "markdown",
   "id": "rural-passing",
   "metadata": {},
   "source": [
    "Array Mathematics"
   ]
  },
  {
   "cell_type": "code",
   "execution_count": 15,
   "id": "final-surname",
   "metadata": {},
   "outputs": [
    {
     "name": "stdout",
     "output_type": "stream",
     "text": [
      "1 2\n",
      "1 2 3 4\n",
      "5 6 7 8\n",
      "[ 6  8 10 12]\n"
     ]
    }
   ],
   "source": [
    "import numpy\n",
    "_ = input()\n",
    "arr= np.array([input().strip().split() for i in range(2)],int)\n",
    "print(arr[0]+arr[1])"
   ]
  },
  {
   "cell_type": "markdown",
   "id": "packed-indian",
   "metadata": {},
   "source": [
    "Array Mathematics"
   ]
  },
  {
   "cell_type": "code",
   "execution_count": null,
   "id": "meaningful-parameter",
   "metadata": {},
   "outputs": [],
   "source": [
    "import numpy as np\n",
    "n,m = list(map(int, input().split()))\n",
    "a = np.array([input().split() for _ in range(n)], int)\n",
    "b = np.array([input().split() for _ in range(n)], int)\n",
    "print(a+b)\n",
    "print(a-b)\n",
    "print(a*b)\n",
    "print(a//b)\n",
    "print(a%b)\n",
    "print(a**b)"
   ]
  },
  {
   "cell_type": "markdown",
   "id": "ordinary-moore",
   "metadata": {},
   "source": [
    "Floor, Ceil and Rint"
   ]
  },
  {
   "cell_type": "code",
   "execution_count": null,
   "id": "laughing-advertising",
   "metadata": {},
   "outputs": [],
   "source": [
    "import numpy as np\n",
    "np.set_printoptions(legacy='1.13')\n",
    "arr = np.array(input().split(), float)\n",
    "print(np.floor(arr))\n",
    "print(np.ceil(arr))\n",
    "print(np.rint(arr))"
   ]
  },
  {
   "cell_type": "markdown",
   "id": "pending-professor",
   "metadata": {},
   "source": [
    "Sum and Prod"
   ]
  },
  {
   "cell_type": "code",
   "execution_count": 9,
   "id": "analyzed-character",
   "metadata": {},
   "outputs": [
    {
     "name": "stdout",
     "output_type": "stream",
     "text": [
      "2 2\n",
      "1 4\n",
      "2 5\n",
      "12\n"
     ]
    }
   ],
   "source": [
    "import numpy as np\n",
    "n,m=list(map(int,input().split()))\n",
    "b=1\n",
    "arr=np.array([input().split() for _ in range(m)],int)\n",
    "arr=np.sum(arr,axis=0)\n",
    "for i in arr:\n",
    "    b=b*i\n",
    "print(b)"
   ]
  },
  {
   "cell_type": "markdown",
   "id": "valid-fraction",
   "metadata": {},
   "source": [
    "Min ad Max"
   ]
  },
  {
   "cell_type": "code",
   "execution_count": null,
   "id": "inner-chart",
   "metadata": {},
   "outputs": [],
   "source": [
    "import numpy as np\n",
    "n,m=list(map(int,input().split()))\n",
    "arr=np.array([input().split() for _ in range(m)],int)\n",
    "arr=np.min(arr,axis=1)\n",
    "print(np.max(arr))"
   ]
  },
  {
   "cell_type": "markdown",
   "id": "posted-beach",
   "metadata": {},
   "source": [
    "Mean, Var, and Std"
   ]
  },
  {
   "cell_type": "code",
   "execution_count": null,
   "id": "comparative-internship",
   "metadata": {},
   "outputs": [],
   "source": [
    "import numpy as np\n",
    "n,m=list(map(int,input().split()))\n",
    "arr=np.array([input().split() for _ in range(m)],int)\n",
    "print(np.mean(arr,axis=1))\n",
    "print(np.var(arr,axis=0))\n",
    "print(round(np.std(arr),11))"
   ]
  },
  {
   "cell_type": "markdown",
   "id": "monthly-carbon",
   "metadata": {},
   "source": [
    "Dot and Cross"
   ]
  },
  {
   "cell_type": "code",
   "execution_count": 11,
   "id": "optional-healthcare",
   "metadata": {},
   "outputs": [
    {
     "name": "stdout",
     "output_type": "stream",
     "text": [
      "2\n",
      "4 5\n",
      "7 8\n",
      "8 2\n",
      "1 9\n",
      "[[4 5]\n",
      " [7 8]]\n",
      "[[8 2]\n",
      " [1 9]]\n"
     ]
    }
   ],
   "source": [
    "import numpy as np\n",
    "n=int(input())\n",
    "a=np.array([input().split() for _ in range(n)],int)\n",
    "b=np.array([input().split() for _ in range(n)],int)\n",
    "print(np.dot(a,b))"
   ]
  },
  {
   "cell_type": "markdown",
   "id": "round-thermal",
   "metadata": {},
   "source": [
    "Inner and Outer"
   ]
  },
  {
   "cell_type": "code",
   "execution_count": null,
   "id": "twelve-october",
   "metadata": {},
   "outputs": [],
   "source": [
    "import numpy as np\n",
    "a=np.array(input().split(),int)\n",
    "b=np.array(input().split(),int)\n",
    "print(np.inner(a,b),np.outer(a,b),sep='\\n')"
   ]
  },
  {
   "cell_type": "markdown",
   "id": "extended-smoke",
   "metadata": {},
   "source": [
    "Polynomials"
   ]
  },
  {
   "cell_type": "code",
   "execution_count": 17,
   "id": "wrapped-alexandria",
   "metadata": {},
   "outputs": [
    {
     "name": "stdout",
     "output_type": "stream",
     "text": [
      "2 3 4 5 6\n",
      "[6.0, 5.0, 4.0, 3.0, 2.0]\n"
     ]
    }
   ],
   "source": [
    "import numpy as np\n",
    "x=list(map(float,input().split()))\n",
    "y=int(input())\n",
    "x=x[::-1]\n",
    "s=0\n",
    "for i in range(len(x)):\n",
    "    s=s+x[i]*y**i\n",
    "print(s)"
   ]
  },
  {
   "cell_type": "markdown",
   "id": "tested-compression",
   "metadata": {},
   "source": [
    "Linear Algebra"
   ]
  },
  {
   "cell_type": "code",
   "execution_count": null,
   "id": "blessed-director",
   "metadata": {},
   "outputs": [],
   "source": [
    "import numpy as np\n",
    "n= int(input())\n",
    "arr=np.array([input().split() for _ in range(n)],float)\n",
    "print(round(np.linalg.det(arr),2))"
   ]
  }
 ],
 "metadata": {
  "kernelspec": {
   "display_name": "Python 3",
   "language": "python",
   "name": "python3"
  },
  "language_info": {
   "codemirror_mode": {
    "name": "ipython",
    "version": 3
   },
   "file_extension": ".py",
   "mimetype": "text/x-python",
   "name": "python",
   "nbconvert_exporter": "python",
   "pygments_lexer": "ipython3",
   "version": "3.7.6"
  }
 },
 "nbformat": 4,
 "nbformat_minor": 5
}
