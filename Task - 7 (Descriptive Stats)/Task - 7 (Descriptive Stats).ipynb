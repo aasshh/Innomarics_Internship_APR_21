{
 "cells": [
  {
   "cell_type": "code",
   "execution_count": 19,
   "id": "sitting-defeat",
   "metadata": {},
   "outputs": [],
   "source": [
    "import pandas as pd\n",
    "import numpy as np\n",
    "import matplotlib.pyplot as plt\n",
    "import seaborn as sns\n",
    "%matplotlib inline"
   ]
  },
  {
   "cell_type": "code",
   "execution_count": 24,
   "id": "collect-accountability",
   "metadata": {},
   "outputs": [],
   "source": [
    "import warnings\n",
    "warnings.filterwarnings(\"ignore\", category=FutureWarning)"
   ]
  },
  {
   "cell_type": "code",
   "execution_count": 2,
   "id": "significant-regard",
   "metadata": {},
   "outputs": [],
   "source": [
    "df=pd.read_csv('data.csv')"
   ]
  },
  {
   "cell_type": "code",
   "execution_count": 3,
   "id": "enclosed-environment",
   "metadata": {},
   "outputs": [
    {
     "data": {
      "text/html": [
       "<div>\n",
       "<style scoped>\n",
       "    .dataframe tbody tr th:only-of-type {\n",
       "        vertical-align: middle;\n",
       "    }\n",
       "\n",
       "    .dataframe tbody tr th {\n",
       "        vertical-align: top;\n",
       "    }\n",
       "\n",
       "    .dataframe thead th {\n",
       "        text-align: right;\n",
       "    }\n",
       "</style>\n",
       "<table border=\"1\" class=\"dataframe\">\n",
       "  <thead>\n",
       "    <tr style=\"text-align: right;\">\n",
       "      <th></th>\n",
       "      <th>Mthly_HH_Income</th>\n",
       "      <th>Mthly_HH_Expense</th>\n",
       "      <th>No_of_Fly_Members</th>\n",
       "      <th>Emi_or_Rent_Amt</th>\n",
       "      <th>Annual_HH_Income</th>\n",
       "      <th>No_of_Earning_Members</th>\n",
       "    </tr>\n",
       "  </thead>\n",
       "  <tbody>\n",
       "    <tr>\n",
       "      <th>count</th>\n",
       "      <td>50.000000</td>\n",
       "      <td>50.000000</td>\n",
       "      <td>50.000000</td>\n",
       "      <td>50.000000</td>\n",
       "      <td>5.000000e+01</td>\n",
       "      <td>50.000000</td>\n",
       "    </tr>\n",
       "    <tr>\n",
       "      <th>mean</th>\n",
       "      <td>41558.000000</td>\n",
       "      <td>18818.000000</td>\n",
       "      <td>4.060000</td>\n",
       "      <td>3060.000000</td>\n",
       "      <td>4.900190e+05</td>\n",
       "      <td>1.460000</td>\n",
       "    </tr>\n",
       "    <tr>\n",
       "      <th>std</th>\n",
       "      <td>26097.908979</td>\n",
       "      <td>12090.216824</td>\n",
       "      <td>1.517382</td>\n",
       "      <td>6241.434948</td>\n",
       "      <td>3.201358e+05</td>\n",
       "      <td>0.734291</td>\n",
       "    </tr>\n",
       "    <tr>\n",
       "      <th>min</th>\n",
       "      <td>5000.000000</td>\n",
       "      <td>2000.000000</td>\n",
       "      <td>1.000000</td>\n",
       "      <td>0.000000</td>\n",
       "      <td>6.420000e+04</td>\n",
       "      <td>1.000000</td>\n",
       "    </tr>\n",
       "    <tr>\n",
       "      <th>25%</th>\n",
       "      <td>23550.000000</td>\n",
       "      <td>10000.000000</td>\n",
       "      <td>3.000000</td>\n",
       "      <td>0.000000</td>\n",
       "      <td>2.587500e+05</td>\n",
       "      <td>1.000000</td>\n",
       "    </tr>\n",
       "    <tr>\n",
       "      <th>50%</th>\n",
       "      <td>35000.000000</td>\n",
       "      <td>15500.000000</td>\n",
       "      <td>4.000000</td>\n",
       "      <td>0.000000</td>\n",
       "      <td>4.474200e+05</td>\n",
       "      <td>1.000000</td>\n",
       "    </tr>\n",
       "    <tr>\n",
       "      <th>75%</th>\n",
       "      <td>50375.000000</td>\n",
       "      <td>25000.000000</td>\n",
       "      <td>5.000000</td>\n",
       "      <td>3500.000000</td>\n",
       "      <td>5.947200e+05</td>\n",
       "      <td>2.000000</td>\n",
       "    </tr>\n",
       "    <tr>\n",
       "      <th>max</th>\n",
       "      <td>100000.000000</td>\n",
       "      <td>50000.000000</td>\n",
       "      <td>7.000000</td>\n",
       "      <td>35000.000000</td>\n",
       "      <td>1.404000e+06</td>\n",
       "      <td>4.000000</td>\n",
       "    </tr>\n",
       "  </tbody>\n",
       "</table>\n",
       "</div>"
      ],
      "text/plain": [
       "       Mthly_HH_Income  Mthly_HH_Expense  No_of_Fly_Members  Emi_or_Rent_Amt  \\\n",
       "count        50.000000         50.000000          50.000000        50.000000   \n",
       "mean      41558.000000      18818.000000           4.060000      3060.000000   \n",
       "std       26097.908979      12090.216824           1.517382      6241.434948   \n",
       "min        5000.000000       2000.000000           1.000000         0.000000   \n",
       "25%       23550.000000      10000.000000           3.000000         0.000000   \n",
       "50%       35000.000000      15500.000000           4.000000         0.000000   \n",
       "75%       50375.000000      25000.000000           5.000000      3500.000000   \n",
       "max      100000.000000      50000.000000           7.000000     35000.000000   \n",
       "\n",
       "       Annual_HH_Income  No_of_Earning_Members  \n",
       "count      5.000000e+01              50.000000  \n",
       "mean       4.900190e+05               1.460000  \n",
       "std        3.201358e+05               0.734291  \n",
       "min        6.420000e+04               1.000000  \n",
       "25%        2.587500e+05               1.000000  \n",
       "50%        4.474200e+05               1.000000  \n",
       "75%        5.947200e+05               2.000000  \n",
       "max        1.404000e+06               4.000000  "
      ]
     },
     "execution_count": 3,
     "metadata": {},
     "output_type": "execute_result"
    }
   ],
   "source": [
    "df.describe()"
   ]
  },
  {
   "cell_type": "markdown",
   "id": "experimental-fundamental",
   "metadata": {},
   "source": [
    "## Let's try to Explain below topics with and without library functions:"
   ]
  },
  {
   "cell_type": "markdown",
   "id": "separate-integer",
   "metadata": {},
   "source": [
    "- Mean\n",
    "- Median\n",
    "- Mode\n",
    "- Variance\n",
    "- Standard Deviation\n",
    "- Correlation\n",
    "- Normal Distribution (use references)\n",
    "- Feature of Normal Distribution\n",
    "- Positively Skewed & Negatively Skewed Normal Distribution\n",
    "- Effect on Mean, Median and Mode due to Skewness\n",
    "- Explain QQ Plot and show the implementation of the same\n",
    "- Explain Box Cox and show the implementation of the same"
   ]
  },
  {
   "cell_type": "markdown",
   "id": "pursuant-mortality",
   "metadata": {},
   "source": [
    "# Mean"
   ]
  },
  {
   "cell_type": "code",
   "execution_count": 4,
   "id": "endangered-powell",
   "metadata": {},
   "outputs": [
    {
     "data": {
      "text/plain": [
       "41558.0"
      ]
     },
     "execution_count": 4,
     "metadata": {},
     "output_type": "execute_result"
    }
   ],
   "source": [
    "df['Mthly_HH_Income'].mean()"
   ]
  },
  {
   "cell_type": "code",
   "execution_count": 36,
   "id": "individual-position",
   "metadata": {},
   "outputs": [],
   "source": [
    "A=list(df['Mthly_HH_Income'])"
   ]
  },
  {
   "cell_type": "code",
   "execution_count": 37,
   "id": "artificial-moses",
   "metadata": {},
   "outputs": [
    {
     "name": "stdout",
     "output_type": "stream",
     "text": [
      "Mean =  41558.0\n"
     ]
    }
   ],
   "source": [
    "print('Mean = ',sum(A)/len(A))"
   ]
  },
  {
   "cell_type": "markdown",
   "id": "external-colony",
   "metadata": {},
   "source": [
    "## $  Mean= \\frac{\\sum_{i=1}^{N}X_i}{N}  $\n",
    "\n",
    "The mean is the average of the numbers.\n",
    "\n",
    "It is easy to calculate: add up all the numbers, then divide by how many numbers there are."
   ]
  },
  {
   "cell_type": "markdown",
   "id": "natural-housing",
   "metadata": {},
   "source": [
    "# Median"
   ]
  },
  {
   "cell_type": "code",
   "execution_count": 5,
   "id": "athletic-swift",
   "metadata": {},
   "outputs": [
    {
     "data": {
      "text/plain": [
       "35000.0"
      ]
     },
     "execution_count": 5,
     "metadata": {},
     "output_type": "execute_result"
    }
   ],
   "source": [
    "df['Mthly_HH_Income'].median()"
   ]
  },
  {
   "cell_type": "code",
   "execution_count": 38,
   "id": "standard-series",
   "metadata": {},
   "outputs": [],
   "source": [
    "a=sorted(A)"
   ]
  },
  {
   "cell_type": "code",
   "execution_count": 46,
   "id": "desperate-sellers",
   "metadata": {},
   "outputs": [
    {
     "name": "stdout",
     "output_type": "stream",
     "text": [
      "Median =  37000.0\n"
     ]
    }
   ],
   "source": [
    "def Med(B):\n",
    "    if len(B)%2==0:\n",
    "        md=(B[len(A)//2]+B[len(B)//2+1])/2\n",
    "    else:\n",
    "        md=B[len(B)/2]\n",
    "    return md\n",
    "print('Median = ',Med(a))"
   ]
  },
  {
   "cell_type": "markdown",
   "id": "czech-fields",
   "metadata": {},
   "source": [
    "The formula to find the median of the dataset is given by:\n",
    "\n",
    "If the given number of observations/data is odd, then the formula to calculate the median is:\n",
    "\n",
    "## $  Median= \\left \\{ \\frac{n+1}{2} \\right \\}  $\n",
    "\n",
    "If the given number of observations is even, then the formula to find the median is given by:\n",
    "<br>\n",
    "## $  Median= \\frac{\\frac{n}{2}+\\left ( \\frac{n}{2}+1 \\right )}{2} $\n",
    "Where,\n",
    "\n",
    "“n” is the number of observations.\n",
    "\n",
    "<br><br>\n",
    "$ for\\,\\,example : in \\,\\,between\\,\\,[ 3\\,, 7\\,, 9]\\,\\,Median\\,\\, is \\Rightarrow 7$"
   ]
  },
  {
   "cell_type": "markdown",
   "id": "structural-failing",
   "metadata": {},
   "source": [
    "#  Mode"
   ]
  },
  {
   "cell_type": "code",
   "execution_count": 6,
   "id": "pursuant-dubai",
   "metadata": {},
   "outputs": [
    {
     "data": {
      "text/plain": [
       "0    45000\n",
       "dtype: int64"
      ]
     },
     "execution_count": 6,
     "metadata": {},
     "output_type": "execute_result"
    }
   ],
   "source": [
    "df['Mthly_HH_Income'].mode()"
   ]
  },
  {
   "cell_type": "code",
   "execution_count": 50,
   "id": "complex-adobe",
   "metadata": {},
   "outputs": [
    {
     "name": "stdout",
     "output_type": "stream",
     "text": [
      "Mode is :45000\n"
     ]
    }
   ],
   "source": [
    "from collections import Counter\n",
    "n = len(A)  \n",
    "tab = Counter(A)\n",
    "get_mode = dict(Counter(A))\n",
    "mode = [k for k, v in get_mode.items() if v == max(list(tab.values()))]\n",
    "  \n",
    "if len(mode) == n:\n",
    "    get_mode = \"No mode found\"\n",
    "else:\n",
    "    get_mode = \"Mode is :\" + ', '.join(map(str, mode))\n",
    "      \n",
    "print(get_mode)"
   ]
  },
  {
   "cell_type": "markdown",
   "id": "naughty-french",
   "metadata": {},
   "source": [
    "The value occurring most frequently in a set of observations is its mode. In other words, the mode of data is the observation having the highest frequency in a set of data. There is a possibility that there exists more than one observation having the same frequency, i.e. a data set could have more than one mode. In such a case, the set of data is said to be multimodal.\n",
    "\n",
    "## $  Mode = l + h\\left ( \\frac{f_m-f_1}{2f_m-f_1-f_2} \\right )  $\n",
    "<BR>\n",
    "<BR>\n",
    "$l$ = lower limit of the modal class\n",
    "\n",
    "$h$ = size of the class interval\n",
    "\n",
    "$f_m $= frequency of the modal class\n",
    "\n",
    "$f_1$ = frequency of the class preceding the modal class\n",
    "\n",
    "$f2$ = frequency of the class succeeding the modal class\n",
    "    \n",
    "    "
   ]
  },
  {
   "cell_type": "markdown",
   "id": "daily-commonwealth",
   "metadata": {},
   "source": [
    "# Variance"
   ]
  },
  {
   "cell_type": "code",
   "execution_count": 7,
   "id": "educational-exploration",
   "metadata": {},
   "outputs": [
    {
     "data": {
      "text/plain": [
       "681100853.0612245"
      ]
     },
     "execution_count": 7,
     "metadata": {},
     "output_type": "execute_result"
    }
   ],
   "source": [
    "df['Mthly_HH_Income'].var()"
   ]
  },
  {
   "cell_type": "code",
   "execution_count": 56,
   "id": "vanilla-clothing",
   "metadata": {},
   "outputs": [
    {
     "name": "stdout",
     "output_type": "stream",
     "text": [
      "Variance :  667478836.0\n"
     ]
    }
   ],
   "source": [
    "B=[]\n",
    "for i in A:\n",
    "    B.append((i-(sum(A)/len(A)))**2)\n",
    "var=sum(B)/len(A)\n",
    "print('Variance : ',var)"
   ]
  },
  {
   "cell_type": "markdown",
   "id": "atomic-recipe",
   "metadata": {},
   "source": [
    "The term variance refers to a statistical measurement of the spread between numbers in a data set. More specifically, variance measures how far each number in the set is from the mean and thus from every other number in the set. Variance is often depicted by this symbol:  $\\sigma ^{2}$\n",
    "\n",
    "## $ Variance = \\sigma ^{2} =\\mu _2= \\frac{\\sum (x-\\mu)^{2}}{N}$"
   ]
  },
  {
   "cell_type": "markdown",
   "id": "conventional-diagram",
   "metadata": {},
   "source": [
    "# Standard Deviation "
   ]
  },
  {
   "cell_type": "code",
   "execution_count": 8,
   "id": "several-search",
   "metadata": {},
   "outputs": [
    {
     "data": {
      "text/plain": [
       "26097.908978713687"
      ]
     },
     "execution_count": 8,
     "metadata": {},
     "output_type": "execute_result"
    }
   ],
   "source": [
    "df['Mthly_HH_Income'].std()"
   ]
  },
  {
   "cell_type": "code",
   "execution_count": 57,
   "id": "developmental-shareware",
   "metadata": {},
   "outputs": [
    {
     "name": "stdout",
     "output_type": "stream",
     "text": [
      "Standard Deviation :  25835.611779092826\n"
     ]
    }
   ],
   "source": [
    "print('Standard Deviation : ',var**0.5)"
   ]
  },
  {
   "cell_type": "markdown",
   "id": "smoking-virus",
   "metadata": {},
   "source": [
    "Standard Deviation is a measure which shows how much variation (such as spread, dispersion, spread,) from the mean exists. The standard deviation indicates a “typical” deviation from the mean. It is a popular measure of variability because it returns to the original units of measure of the data set.  Like the variance, if the data points are close to mean, there is a small variation whereas the data points are highly spread out from the mean, then it has a high variance.\n",
    "\n",
    "## $ \\sigma  = \\sqrt {Variance } $"
   ]
  },
  {
   "cell_type": "code",
   "execution_count": 14,
   "id": "extensive-stock",
   "metadata": {
    "scrolled": false
   },
   "outputs": [
    {
     "data": {
      "text/html": [
       "<div>\n",
       "<style scoped>\n",
       "    .dataframe tbody tr th:only-of-type {\n",
       "        vertical-align: middle;\n",
       "    }\n",
       "\n",
       "    .dataframe tbody tr th {\n",
       "        vertical-align: top;\n",
       "    }\n",
       "\n",
       "    .dataframe thead th {\n",
       "        text-align: right;\n",
       "    }\n",
       "</style>\n",
       "<table border=\"1\" class=\"dataframe\">\n",
       "  <thead>\n",
       "    <tr style=\"text-align: right;\">\n",
       "      <th></th>\n",
       "      <th>Mthly_HH_Income</th>\n",
       "      <th>Mthly_HH_Expense</th>\n",
       "      <th>No_of_Fly_Members</th>\n",
       "      <th>Emi_or_Rent_Amt</th>\n",
       "      <th>Annual_HH_Income</th>\n",
       "      <th>No_of_Earning_Members</th>\n",
       "    </tr>\n",
       "  </thead>\n",
       "  <tbody>\n",
       "    <tr>\n",
       "      <th>Mthly_HH_Income</th>\n",
       "      <td>1.000000</td>\n",
       "      <td>0.649215</td>\n",
       "      <td>0.448317</td>\n",
       "      <td>0.036976</td>\n",
       "      <td>0.970315</td>\n",
       "      <td>0.347883</td>\n",
       "    </tr>\n",
       "    <tr>\n",
       "      <th>Mthly_HH_Expense</th>\n",
       "      <td>0.649215</td>\n",
       "      <td>1.000000</td>\n",
       "      <td>0.639702</td>\n",
       "      <td>0.405280</td>\n",
       "      <td>0.591222</td>\n",
       "      <td>0.311915</td>\n",
       "    </tr>\n",
       "    <tr>\n",
       "      <th>No_of_Fly_Members</th>\n",
       "      <td>0.448317</td>\n",
       "      <td>0.639702</td>\n",
       "      <td>1.000000</td>\n",
       "      <td>0.085808</td>\n",
       "      <td>0.430868</td>\n",
       "      <td>0.597482</td>\n",
       "    </tr>\n",
       "    <tr>\n",
       "      <th>Emi_or_Rent_Amt</th>\n",
       "      <td>0.036976</td>\n",
       "      <td>0.405280</td>\n",
       "      <td>0.085808</td>\n",
       "      <td>1.000000</td>\n",
       "      <td>0.002716</td>\n",
       "      <td>-0.097431</td>\n",
       "    </tr>\n",
       "    <tr>\n",
       "      <th>Annual_HH_Income</th>\n",
       "      <td>0.970315</td>\n",
       "      <td>0.591222</td>\n",
       "      <td>0.430868</td>\n",
       "      <td>0.002716</td>\n",
       "      <td>1.000000</td>\n",
       "      <td>0.296679</td>\n",
       "    </tr>\n",
       "    <tr>\n",
       "      <th>No_of_Earning_Members</th>\n",
       "      <td>0.347883</td>\n",
       "      <td>0.311915</td>\n",
       "      <td>0.597482</td>\n",
       "      <td>-0.097431</td>\n",
       "      <td>0.296679</td>\n",
       "      <td>1.000000</td>\n",
       "    </tr>\n",
       "  </tbody>\n",
       "</table>\n",
       "</div>"
      ],
      "text/plain": [
       "                       Mthly_HH_Income  Mthly_HH_Expense  No_of_Fly_Members  \\\n",
       "Mthly_HH_Income               1.000000          0.649215           0.448317   \n",
       "Mthly_HH_Expense              0.649215          1.000000           0.639702   \n",
       "No_of_Fly_Members             0.448317          0.639702           1.000000   \n",
       "Emi_or_Rent_Amt               0.036976          0.405280           0.085808   \n",
       "Annual_HH_Income              0.970315          0.591222           0.430868   \n",
       "No_of_Earning_Members         0.347883          0.311915           0.597482   \n",
       "\n",
       "                       Emi_or_Rent_Amt  Annual_HH_Income  \\\n",
       "Mthly_HH_Income               0.036976          0.970315   \n",
       "Mthly_HH_Expense              0.405280          0.591222   \n",
       "No_of_Fly_Members             0.085808          0.430868   \n",
       "Emi_or_Rent_Amt               1.000000          0.002716   \n",
       "Annual_HH_Income              0.002716          1.000000   \n",
       "No_of_Earning_Members        -0.097431          0.296679   \n",
       "\n",
       "                       No_of_Earning_Members  \n",
       "Mthly_HH_Income                     0.347883  \n",
       "Mthly_HH_Expense                    0.311915  \n",
       "No_of_Fly_Members                   0.597482  \n",
       "Emi_or_Rent_Amt                    -0.097431  \n",
       "Annual_HH_Income                    0.296679  \n",
       "No_of_Earning_Members               1.000000  "
      ]
     },
     "execution_count": 14,
     "metadata": {},
     "output_type": "execute_result"
    }
   ],
   "source": [
    "df.corr()"
   ]
  },
  {
   "cell_type": "markdown",
   "id": "casual-partner",
   "metadata": {},
   "source": [
    "Correlation refers to a process for establishing the relationships between two variables. A general idea about whether or not two variables are related, is to plot them on a “scatter plot”. While there are many measures of association for variables which are measured at the ordinal or higher level of measurement, correlation is the most commonly used approach."
   ]
  },
  {
   "cell_type": "code",
   "execution_count": 58,
   "id": "collected-softball",
   "metadata": {
    "scrolled": true
   },
   "outputs": [
    {
     "data": {
      "text/plain": [
       "<AxesSubplot:xlabel='Mthly_HH_Income', ylabel='Mthly_HH_Expense'>"
      ]
     },
     "execution_count": 58,
     "metadata": {},
     "output_type": "execute_result"
    },
    {
     "data": {
      "image/png": "[encoded data removed]",
      "text/plain": [
       "<Figure size 432x288 with 1 Axes>"
      ]
     },
     "metadata": {
      "needs_background": "light"
     },
     "output_type": "display_data"
    }
   ],
   "source": [
    "sns.scatterplot(x='Mthly_HH_Income',y='Mthly_HH_Expense',data=df)"
   ]
  },
  {
   "cell_type": "markdown",
   "id": "unlike-omega",
   "metadata": {},
   "source": [
    "The most common formula is the Pearson Correlation coefficient used for linear dependency between the data set. The value of the coefficient lies between -1 to +1. When the coefficient comes down to zero, then the data is considered as not related. While, if we get the value of +1, then the data are positively correlated, and -1 has a negative correlation."
   ]
  },
  {
   "cell_type": "markdown",
   "id": "reverse-poverty",
   "metadata": {},
   "source": [
    "### $r =\\frac{n\\left ( \\sum xy \\right )-\\left ( \\sum x \\right )\\left ( \\sum y \\right )}{\\sqrt{\\left [ n\\sum x^2 -\\left ( \\sum x \\right )^2\\right ]\\left [ n\\sum y^2-\\left ( \\sum y \\right )^2 \\right ]}}$"
   ]
  },
  {
   "cell_type": "code",
   "execution_count": 68,
   "id": "generic-translation",
   "metadata": {},
   "outputs": [
    {
     "data": {
      "text/plain": [
       "<AxesSubplot:>"
      ]
     },
     "execution_count": 68,
     "metadata": {},
     "output_type": "execute_result"
    },
    {
     "data": {
      "image/png": "[encoded data removed]",
      "text/plain": [
       "<Figure size 432x288 with 1 Axes>"
      ]
     },
     "metadata": {
      "needs_background": "light"
     },
     "output_type": "display_data"
    }
   ],
   "source": [
    "sample_mean = np.mean(df['Mthly_HH_Income'])\n",
    "sample_stdev = np.var(df['Mthly_HH_Income'])**0.5\n",
    "# Calculate standard error\n",
    "std_error = sample_stdev/(df['Mthly_HH_Income'].shape[0])**0.5\n",
    "# Infer distribution using single sample\n",
    "inferred_dist = [sample_mean + np.random.normal()*\\\n",
    "                 std_error for i in range(10000)]\n",
    "# Plot histogram of inferred distribution\n",
    "sns.distplot(inferred_dist, kde=False, \n",
    "             label='Inferred', color='red')"
   ]
  },
  {
   "cell_type": "markdown",
   "id": "french-proposal",
   "metadata": {},
   "source": [
    "# Normal Distribution"
   ]
  },
  {
   "cell_type": "markdown",
   "id": "experienced-regular",
   "metadata": {},
   "source": [
    "### $  f(_x ,_\\mu ,_\\sigma ) = \\frac{1}{\\sigma{\\sqrt {2\\pi } }}e^{ - \\frac{1}{2}(\\frac{x-\\mu }{\\sigma})^2} $"
   ]
  },
  {
   "cell_type": "markdown",
   "id": "ruled-emergency",
   "metadata": {},
   "source": [
    "You probably have known about many curves and by seeing the graphs you can tell how the data is distributed along the curve for example:\n",
    "<img src=\"curve.jpg\" style=\"float:left\" width='300' height='400'>"
   ]
  },
  {
   "cell_type": "markdown",
   "id": "objective-swimming",
   "metadata": {},
   "source": [
    "Here, we can see that data is not evenly distributed, but in\n",
    "##### Normally Distributed Plot\n",
    "The main idea behind nroamlly distributed curve is that <br>\n",
    "**Mean = Median =Mode**\n",
    "which makes the curve bell shaped and often called bell shaped curve because of it's resemblance with that of bell<br>\n",
    "<img src=\"normal.jpg\" style=\"float:left\" width='500' height='400'> <img src=\"bell.jpg\" style=\"float:left\" width='400' height='400'>"
   ]
  },
  {
   "cell_type": "markdown",
   "id": "social-therapy",
   "metadata": {},
   "source": [
    "## Features of Normal Distribution"
   ]
  },
  {
   "cell_type": "markdown",
   "id": "vital-thought",
   "metadata": {},
   "source": [
    "Some properties of Normal Distributions is:\n",
    "- The mean-mode-median is in the center.\n",
    "  - It is the mean because it is the ARITHMETIC average of all the scores.\n",
    "  - It is the mode because of all the scores the mean score happens MOST often.\n",
    "  - It is the median because when the scores are displayed from lowest to highest, the mean is the MIDDLE score, the median.\n",
    "  - The EXPECTED value is the mean.\n",
    "- The frequency curve is bell shaped.\n",
    "    - The bell shape has perfect bilateral symmetry - the left balances exactly with the right.\n",
    "    - The score at -2 is balanced by a score at +2 and the frequencies from 0 to +2 and from 0 to -2 are equal.\n",
    "    - The area under the curve from 0 to +2 is exactly the same as the area under the curve from 0 to -2.\n",
    "    - Fifty percent of the scores are above the mean and 50% are below the mean.\n",
    "- The probability a score is above the mean is 50% and the probability a score is below the mean is 50%.\n",
    "- Most of the scores are in the middle, about the mean, and few are in the tails, at the extremes.\n",
    "- The area under the curve is equal to 1.\n",
    "- The probability of an event that does not happen is 0.\n",
    "- The sum of the probabilities of all events is 1.\n",
    "- The standard deviation tells one how the scores are spread out and therefore the fatness or skinniness of the bell.\n",
    "- The data distributed in such a way that \n",
    "   - 68.5% of data lies between x-$\\mu$ and x+$\\mu$ \n",
    "   - 95.5% of data lies between x-$2\\mu$ and x+$2\\mu$\n",
    "   - 99.7% of data lies between x-$3\\mu$ and x+$3\\mu$"
   ]
  },
  {
   "cell_type": "markdown",
   "id": "social-concentration",
   "metadata": {},
   "source": [
    "Let's try to plot a normal curve using above data"
   ]
  },
  {
   "cell_type": "code",
   "execution_count": 70,
   "id": "south-resident",
   "metadata": {
    "scrolled": true
   },
   "outputs": [
    {
     "data": {
      "text/plain": [
       "<AxesSubplot:>"
      ]
     },
     "execution_count": 70,
     "metadata": {},
     "output_type": "execute_result"
    },
    {
     "data": {
      "image/png": "[encoded data removed]",
      "text/plain": [
       "<Figure size 432x288 with 1 Axes>"
      ]
     },
     "metadata": {
      "needs_background": "light"
     },
     "output_type": "display_data"
    }
   ],
   "source": [
    "sample_mean = np.mean(df['Mthly_HH_Income'])\n",
    "sample_stdev = np.var(df['Mthly_HH_Income'])**0.5\n",
    "# Calculate standard error\n",
    "std_error = sample_stdev/(df['Mthly_HH_Income'].shape[0])**0.5\n",
    "# Infer distribution using single sample\n",
    "inferred_dist = [sample_mean + np.random.normal()*\\\n",
    "                 std_error for i in range(10000)]\n",
    "# Plot histogram of inferred distribution\n",
    "sns.distplot(inferred_dist, kde=False, \n",
    "             label='Inferred', color='red')"
   ]
  },
  {
   "cell_type": "markdown",
   "id": "minus-finger",
   "metadata": {},
   "source": [
    "It look's approximately normally distributed curve"
   ]
  },
  {
   "cell_type": "markdown",
   "id": "executive-pendant",
   "metadata": {},
   "source": [
    "## Positively Skewed and Negatively Skewed Normal Distribution"
   ]
  },
  {
   "cell_type": "markdown",
   "id": "encouraging-minister",
   "metadata": {},
   "source": [
    "<img src=\"skewed.jpg\" style=\"float:left\" width='500' height='400'>"
   ]
  },
  {
   "cell_type": "markdown",
   "id": "confused-nursery",
   "metadata": {},
   "source": [
    "Skewness is the measure of the asymmetry of an ideally symmetric probability distribution and is given by the third standardized moment. If that sounds way too complex, don’t worry! Let me break it down for you.\n",
    "In simple words, skewness is the measure of how much the probability distribution of a random variable deviates from the normal distribution.<br><br>\n",
    "Well, the normal distribution is the probability distribution without any skewness. You can look at the image below which shows symmetrical distribution that’s basically a normal distribution and you can see that it is symmetrical on both sides of the dashed line. Apart from this, there are two types of skewness:\n",
    "<img src=\"skewness1.jpg\" style=\"float:left\" width='500' height='400'>"
   ]
  },
  {
   "cell_type": "markdown",
   "id": "initial-korea",
   "metadata": {},
   "source": [
    "## Effect on Mean, Median and Mode due to Skewness\n",
    "As we can see from the plot above the positive skewness and negative skewness effects the central tendencies"
   ]
  },
  {
   "cell_type": "markdown",
   "id": "hydraulic-wildlife",
   "metadata": {},
   "source": [
    "## Q-Q plots\n",
    "Q-Q plots are also used to find the Skewness (a measure of “asymmetry”) of a distribution. When we plot theoretical quantiles on the x-axis and the sample quantiles whose distribution we want to know on the y-axis then we see a very peculiar shape of a Normally distributed Q-Q plot for skewness. If the bottom end of the Q-Q plot deviates from the straight line but the upper end is not, then we can clearly say that the distribution has a longer tail to its left or simply it is left-skewed (or negatively skewed) but when we see the upper end of the Q-Q plot to deviate from the straight line and the lower and follows a straight line then the curve has a longer till to its right and it is right-skewed (or positively skewed).\n"
   ]
  },
  {
   "cell_type": "code",
   "execution_count": 81,
   "id": "immediate-elder",
   "metadata": {},
   "outputs": [
    {
     "data": {
      "image/png": "[encoded data removed]",
      "text/plain": [
       "<Figure size 432x288 with 1 Axes>"
      ]
     },
     "metadata": {
      "needs_background": "light"
     },
     "output_type": "display_data"
    }
   ],
   "source": [
    "import statsmodels.api as sm \n",
    "import pylab as py \n",
    "mark = np.random.normal(0, 1, 100)     \n",
    "sm.qqplot(mark, line ='r') \n",
    "py.show()"
   ]
  },
  {
   "cell_type": "markdown",
   "id": "activated-wilson",
   "metadata": {},
   "source": [
    "## Box-Cox Transformation"
   ]
  },
  {
   "cell_type": "markdown",
   "id": "turkish-cathedral",
   "metadata": {},
   "source": [
    "A Box Cox transformation is a transformation of a non-normal dependent variables into a normal shape. Normality is an important assumption for many statistical techniques; if your data isn’t normal, applying a Box-Cox means that you are able to run a broader number of tests.\n",
    "\n",
    "At the core of the Box Cox transformation is an exponent, lambda (λ), which varies from -5 to 5. All values of λ are considered and the optimal value for your data is selected; The “optimal value” is the one which results in the best approximation of a normal distribution curve. The transformation of Y has the form:\n",
    "## $y(\\lambda)=\\left\\{\\begin{matrix}\\frac{y^\\lambda-1}{\\lambda},\\,\\,\\,if\\,\\,\\lambda\\neq 0;\\\\log(y),\\,\\,\\,if\\,\\,\\lambda\\neq 0.\\end{matrix}\\right.$"
   ]
  },
  {
   "cell_type": "code",
   "execution_count": 102,
   "id": "composed-newcastle",
   "metadata": {
    "scrolled": true
   },
   "outputs": [
    {
     "data": {
      "text/plain": [
       "<matplotlib.legend.Legend at 0x1ae70d9dc88>"
      ]
     },
     "execution_count": 102,
     "metadata": {},
     "output_type": "execute_result"
    },
    {
     "data": {
      "image/png": "[encoded data removed]",
      "text/plain": [
       "<Figure size 432x288 with 1 Axes>"
      ]
     },
     "metadata": {
      "needs_background": "light"
     },
     "output_type": "display_data"
    }
   ],
   "source": [
    "from scipy import stats\n",
    "original_data = np.random.exponential(size = 1000)\n",
    "fitted_data, fitted_lambda = stats.boxcox(original_data)\n",
    "o=pd.Series(original_data)\n",
    "f=pd.Series(fitted_data)\n",
    "o.hist(alpha=0.5,bins=100,label='Orignal_Data')\n",
    "f.hist(alpha=0.5,bins=100,label='Fitted_data')\n",
    "plt.legend()"
   ]
  },
  {
   "cell_type": "markdown",
   "id": "original-career",
   "metadata": {},
   "source": [
    "So here we can clearly see how efficiently any curve can be converted into Normally distributed curve using Box-Cox Transformation."
   ]
  },
  {
   "cell_type": "markdown",
   "id": "alike-frontier",
   "metadata": {},
   "source": [
    "#### Thank you 👍👍😊"
   ]
  }
 ],
 "metadata": {
  "kernelspec": {
   "display_name": "Python 3",
   "language": "python",
   "name": "python3"
  },
  "language_info": {
   "codemirror_mode": {
    "name": "ipython",
    "version": 3
   },
   "file_extension": ".py",
   "mimetype": "text/x-python",
   "name": "python",
   "nbconvert_exporter": "python",
   "pygments_lexer": "ipython3",
   "version": "3.7.6"
  }
 },
 "nbformat": 4,
 "nbformat_minor": 5
}
