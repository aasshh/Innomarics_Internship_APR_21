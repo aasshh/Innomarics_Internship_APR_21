{
 "cells": [
  {
   "cell_type": "markdown",
   "id": "bored-providence",
   "metadata": {},
   "source": [
    "Day 4: Binomial Distribution I"
   ]
  },
  {
   "cell_type": "code",
   "execution_count": null,
   "id": "dress-remark",
   "metadata": {},
   "outputs": [],
   "source": [
    "from math import factorial as fact\n",
    "\n",
    "def comb(n, x):\n",
    "    return fact(n) / (fact(x) * fact(n-x))\n",
    "\n",
    "def base(x, n, p):\n",
    "    return comb(n, x) * p**x * (1-p)**(n-x)\n",
    "\n",
    "l, r = list(map(float, input().split(\" \")))\n",
    "odds = l / r\n",
    "print(round(sum([base(i, 6, odds / (1 + odds)) for i in range(3, 7)]), 3))"
   ]
  },
  {
   "cell_type": "markdown",
   "id": "noble-kennedy",
   "metadata": {},
   "source": [
    "Day 4: Binomial Distribution II"
   ]
  },
  {
   "cell_type": "code",
   "execution_count": null,
   "id": "assigned-shanghai",
   "metadata": {},
   "outputs": [],
   "source": [
    "from math import factorial as fact\n",
    "def comb(n, x):\n",
    "    return fact(n) / (fact(x) * fact(n-x))\n",
    "def base(x, n, p):\n",
    "    return comb(n, x) * p**x * (1-p)**(n-x)\n",
    "\n",
    "p, n = list(map(int, input().split(\" \")))\n",
    "print(round(sum([base(i, n, p/100) for i in range(3)]), 3))\n",
    "print(round(sum([base(i, n, p/100) for i in range(2, n+1)]), 3))"
   ]
  },
  {
   "cell_type": "markdown",
   "id": "interior-topic",
   "metadata": {},
   "source": [
    "Day 5: Normal Distribution I"
   ]
  },
  {
   "cell_type": "code",
   "execution_count": null,
   "id": "derived-trade",
   "metadata": {},
   "outputs": [],
   "source": [
    "import math\n",
    "mean, std = 20, 2\n",
    "denf = lambda x: 0.5 * (1 + math.erf((x - mean) / (std * (2 ** 0.5))))\n",
    "print('{:.3f}'.format(denf(19.5)))\n",
    "print('{:.3f}'.format(denf(22) - denf(20)))"
   ]
  },
  {
   "cell_type": "markdown",
   "id": "molecular-fraction",
   "metadata": {},
   "source": [
    "Day 5: Normal Distribution II"
   ]
  },
  {
   "cell_type": "code",
   "execution_count": null,
   "id": "important-huntington",
   "metadata": {},
   "outputs": [],
   "source": [
    "import math\n",
    "mean, std = 70, 10\n",
    "denf = lambda x: 0.5 * (1 + math.erf((x - mean) / (std * (2 ** 0.5))))\n",
    "print(round((1-denf(80))*100,2))\n",
    "print(round((1-denf(60))*100,2))\n",
    "print(round((denf(60))*100,2))"
   ]
  },
  {
   "cell_type": "markdown",
   "id": "alpha-flesh",
   "metadata": {},
   "source": [
    "Day 6: The Central Limit Theorem I"
   ]
  },
  {
   "cell_type": "code",
   "execution_count": null,
   "id": "protecting-housing",
   "metadata": {},
   "outputs": [],
   "source": [
    "import math\n",
    "x,n,mu,sigma= int(input()),int(input()),int(input()),int(input())\n",
    "mu_sum = n * mu \n",
    "sigma_sum = n**0.5 * sigma\n",
    "def denf(x, mu, sigma):\n",
    "    Z = (x - mu)/sigma\n",
    "    return 0.5*(1 + math.erf(Z/(2**0.5)))\n",
    "print(round(denf(x, mu_sum, sigma_sum), 4))"
   ]
  },
  {
   "cell_type": "markdown",
   "id": "associate-bearing",
   "metadata": {},
   "source": [
    "Day 6: The Central Limit Theorem II"
   ]
  },
  {
   "cell_type": "code",
   "execution_count": null,
   "id": "double-trigger",
   "metadata": {},
   "outputs": [],
   "source": [
    "import math\n",
    "x,n = 250,100\n",
    "sam_mean = 2.4\n",
    "sam_stdev = 2.0\n",
    "stdev = sam_stdev * n**0.5\n",
    "denf = 0.5 * (1 + math.erf((x - sam_mean * n) / (stdev*2**0.5)))\n",
    "print(round(denf,4))"
   ]
  },
  {
   "cell_type": "markdown",
   "id": "sized-closure",
   "metadata": {},
   "source": [
    "Day 6: The Central Limit Theorem III"
   ]
  },
  {
   "cell_type": "code",
   "execution_count": null,
   "id": "historical-terminal",
   "metadata": {},
   "outputs": [],
   "source": [
    "samples,mean,sd,interval,z = float(input()),float(input()),float(input()),float(input()),float (input())\n",
    "sd_sample = sd / (samples**0.5)\n",
    "print(round(mean - sd_sample*z,2))\n",
    "print(round(mean + sd_sample*z,2))"
   ]
  },
  {
   "cell_type": "markdown",
   "id": "institutional-breathing",
   "metadata": {},
   "source": [
    "Day 7: Pearson Correlation Coefficient I"
   ]
  },
  {
   "cell_type": "code",
   "execution_count": null,
   "id": "advanced-cabin",
   "metadata": {},
   "outputs": [],
   "source": [
    "N = int(input())\n",
    "X = list(map(float,input().strip().split()))\n",
    "Y = list(map(float,input().strip().split()))\n",
    "mu_x = sum(X) / N\n",
    "mu_y = sum(Y) / N\n",
    "stdv_x = (sum([(i - mu_x)**2 for i in X]) / N)**0.5\n",
    "stdv_y = (sum([(i - mu_y)**2 for i in Y]) / N)**0.5\n",
    "cov = sum([(X[i] - mu_x) * (Y[i] -mu_y) for i in range(N)])\n",
    "corr = cov / (N * stdv_x * stdv_y)\n",
    "print(round(corr,3))"
   ]
  },
  {
   "cell_type": "markdown",
   "id": "accredited-wisdom",
   "metadata": {},
   "source": [
    "Day 8: Least Square Regression Line"
   ]
  },
  {
   "cell_type": "code",
   "execution_count": null,
   "id": "protective-partition",
   "metadata": {},
   "outputs": [],
   "source": [
    "n=5\n",
    "xy = [map(int, input().split()) for _ in range(n)]\n",
    "sx, sy, sx2, sxy = map(sum, zip(*[(x, y, x**2, x * y) for x, y in xy]))\n",
    "b = (n * sxy - sx * sy) / (n * sx2 - sx**2)\n",
    "a = (sy / n) - b * (sx / n)\n",
    "print('{:.3f}'.format(a + b * 80))"
   ]
  }
 ],
 "metadata": {
  "kernelspec": {
   "display_name": "Python 3",
   "language": "python",
   "name": "python3"
  },
  "language_info": {
   "codemirror_mode": {
    "name": "ipython",
    "version": 3
   },
   "file_extension": ".py",
   "mimetype": "text/x-python",
   "name": "python",
   "nbconvert_exporter": "python",
   "pygments_lexer": "ipython3",
   "version": "3.7.6"
  }
 },
 "nbformat": 4,
 "nbformat_minor": 5
}
